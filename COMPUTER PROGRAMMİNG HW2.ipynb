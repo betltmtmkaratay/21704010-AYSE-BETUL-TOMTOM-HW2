{
 "cells": [
  {
   "cell_type": "code",
   "execution_count": null,
   "metadata": {},
   "outputs": [],
   "source": [
    "print('PLEASE!CHOOSE A NUMBER ONE OF 1,2 AND 3.')\n",
    "value1 =float(input(\"Enter a number : \"))\n",
    "\n",
    "\n",
    "\n",
    "if value1 == 1:\n",
    "    print('İN THİS CASE YOUR TRİANGLE HYPOTHENUS VALUE WİLL BE FİND.')\n",
    "    edge1 = int(input(\"Enter a 1st edge of triangle :\"))\n",
    "    edge2 = int(input(\"Enter a 2nd edge of triangle :\"))\n",
    "    hypotenus=((edge1**2)+(edge2**2))**0.5\n",
    "    print('The Triangle Hypotenuse Value İs :' ,hypotenus)\n",
    "\n",
    "\n",
    "\n",
    "if value1 == 2:\n",
    "    i=0\n",
    "    x =int(input(\"Enter a value : \"))\n",
    "    while x+1 > i:\n",
    "        print('SAYI:' ,i)\n",
    "        i= i+1\n",
    "        \n",
    "    \n",
    "\n",
    "if value1 == 3:\n",
    "    print('İN THİS CASE WE WANT 6 NUMBERS FROM YOU TO CALCULATE ARİTHMETİC MEAN OF THESE NUMBERS. ')\n",
    "    number1=int(input(\"enter a 1st number :\"))\n",
    "    number2=int(input(\"enter a 2nd number :\"))\n",
    "    number3=int(input(\"enter a 3rd number :\"))\n",
    "    number4=int(input(\"enter a 4th number :\"))\n",
    "    number5=int(input(\"enter a 5th number :\"))\n",
    "    number6=int(input(\"enter a 6th number :\"))\n",
    "    result_of_arithmetic=(number1+number2+number3+number4+number5+number6)/6\n",
    "    print('Your arithmetic mean is : ' ,result_of_arithmetic)\n",
    "    \n",
    "if value1 != 1 or 2 or 3:\n",
    "    print(\"   PLEASE!START THE PROGRAM AGAİN AND CHOOSE OTHER CASES(1,2,3).   \")\n",
    "    "
   ]
  },
  {
   "cell_type": "code",
   "execution_count": null,
   "metadata": {},
   "outputs": [],
   "source": []
  },
  {
   "cell_type": "code",
   "execution_count": null,
   "metadata": {},
   "outputs": [],
   "source": []
  }
 ],
 "metadata": {
  "kernelspec": {
   "display_name": "Python 3",
   "language": "python",
   "name": "python3"
  },
  "language_info": {
   "codemirror_mode": {
    "name": "ipython",
    "version": 3
   },
   "file_extension": ".py",
   "mimetype": "text/x-python",
   "name": "python",
   "nbconvert_exporter": "python",
   "pygments_lexer": "ipython3",
   "version": "3.7.0"
  }
 },
 "nbformat": 4,
 "nbformat_minor": 2
}
